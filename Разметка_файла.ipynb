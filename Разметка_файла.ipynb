{
 "cells": [
  {
   "cell_type": "code",
   "execution_count": 2,
   "metadata": {},
   "outputs": [],
   "source": [
    "for i in range(2, 13):\n",
    "    open(f\"C:\\\\Results\\\\txt\\\\09022022\\\\Block{i}_answers.txt\", 'w').close()"
   ]
  },
  {
   "cell_type": "code",
   "execution_count": 3,
   "metadata": {},
   "outputs": [],
   "source": [
    "import numpy as np\n",
    "\n",
    "import pandas as pd\n",
    "\n",
    "import matplotlib.pyplot as plt"
   ]
  },
  {
   "cell_type": "code",
   "execution_count": 4,
   "metadata": {},
   "outputs": [
    {
     "data": {
      "text/html": [
       "<div>\n",
       "<style scoped>\n",
       "    .dataframe tbody tr th:only-of-type {\n",
       "        vertical-align: middle;\n",
       "    }\n",
       "\n",
       "    .dataframe tbody tr th {\n",
       "        vertical-align: top;\n",
       "    }\n",
       "\n",
       "    .dataframe thead th {\n",
       "        text-align: right;\n",
       "    }\n",
       "</style>\n",
       "<table border=\"1\" class=\"dataframe\">\n",
       "  <thead>\n",
       "    <tr style=\"text-align: right;\">\n",
       "      <th></th>\n",
       "      <th>Время, s</th>\n",
       "      <th>Канал 1, V</th>\n",
       "    </tr>\n",
       "  </thead>\n",
       "  <tbody>\n",
       "    <tr>\n",
       "      <th>0</th>\n",
       "      <td>0.0000</td>\n",
       "      <td>-0.7854</td>\n",
       "    </tr>\n",
       "    <tr>\n",
       "      <th>1</th>\n",
       "      <td>0.0001</td>\n",
       "      <td>-0.7880</td>\n",
       "    </tr>\n",
       "    <tr>\n",
       "      <th>2</th>\n",
       "      <td>0.0002</td>\n",
       "      <td>-0.7880</td>\n",
       "    </tr>\n",
       "    <tr>\n",
       "      <th>3</th>\n",
       "      <td>0.0003</td>\n",
       "      <td>-0.7880</td>\n",
       "    </tr>\n",
       "    <tr>\n",
       "      <th>4</th>\n",
       "      <td>0.0004</td>\n",
       "      <td>-0.7880</td>\n",
       "    </tr>\n",
       "  </tbody>\n",
       "</table>\n",
       "</div>"
      ],
      "text/plain": [
       "   Время, s  Канал 1, V\n",
       "0    0.0000     -0.7854\n",
       "1    0.0001     -0.7880\n",
       "2    0.0002     -0.7880\n",
       "3    0.0003     -0.7880\n",
       "4    0.0004     -0.7880"
      ]
     },
     "execution_count": 4,
     "metadata": {},
     "output_type": "execute_result"
    }
   ],
   "source": [
    "filename = \"C:\\\\Results\\\\txt\\\\09022022\\\\Block11.txt\"\n",
    "\n",
    "data = pd.read_csv(filename, sep='\\t', decimal=\",\", encoding='cp1251')\n",
    "\n",
    "data.head()"
   ]
  },
  {
   "cell_type": "code",
   "execution_count": 5,
   "metadata": {},
   "outputs": [
    {
     "data": {
      "text/html": [
       "<div>\n",
       "<style scoped>\n",
       "    .dataframe tbody tr th:only-of-type {\n",
       "        vertical-align: middle;\n",
       "    }\n",
       "\n",
       "    .dataframe tbody tr th {\n",
       "        vertical-align: top;\n",
       "    }\n",
       "\n",
       "    .dataframe thead th {\n",
       "        text-align: right;\n",
       "    }\n",
       "</style>\n",
       "<table border=\"1\" class=\"dataframe\">\n",
       "  <thead>\n",
       "    <tr style=\"text-align: right;\">\n",
       "      <th></th>\n",
       "      <th>Время, s</th>\n",
       "      <th>Канал 1, V</th>\n",
       "    </tr>\n",
       "  </thead>\n",
       "  <tbody>\n",
       "    <tr>\n",
       "      <th>0</th>\n",
       "      <td>0.000</td>\n",
       "      <td>0.009206</td>\n",
       "    </tr>\n",
       "    <tr>\n",
       "      <th>1</th>\n",
       "      <td>0.001</td>\n",
       "      <td>0.006606</td>\n",
       "    </tr>\n",
       "    <tr>\n",
       "      <th>2</th>\n",
       "      <td>0.002</td>\n",
       "      <td>0.006606</td>\n",
       "    </tr>\n",
       "    <tr>\n",
       "      <th>3</th>\n",
       "      <td>0.003</td>\n",
       "      <td>0.006606</td>\n",
       "    </tr>\n",
       "    <tr>\n",
       "      <th>4</th>\n",
       "      <td>0.004</td>\n",
       "      <td>0.006606</td>\n",
       "    </tr>\n",
       "  </tbody>\n",
       "</table>\n",
       "</div>"
      ],
      "text/plain": [
       "   Время, s  Канал 1, V\n",
       "0     0.000    0.009206\n",
       "1     0.001    0.006606\n",
       "2     0.002    0.006606\n",
       "3     0.003    0.006606\n",
       "4     0.004    0.006606"
      ]
     },
     "execution_count": 5,
     "metadata": {},
     "output_type": "execute_result"
    }
   ],
   "source": [
    "mean_voltage = data['Канал 1, V'].mean()\n",
    "\n",
    "data['Канал 1, V'] = data['Канал 1, V'] - mean_voltage\n",
    "\n",
    "data['Время, s'] = data['Время, s'] * 10\n",
    "\n",
    "data.head()"
   ]
  },
  {
   "cell_type": "code",
   "execution_count": 6,
   "metadata": {},
   "outputs": [
    {
     "data": {
      "text/html": [
       "<div>\n",
       "<style scoped>\n",
       "    .dataframe tbody tr th:only-of-type {\n",
       "        vertical-align: middle;\n",
       "    }\n",
       "\n",
       "    .dataframe tbody tr th {\n",
       "        vertical-align: top;\n",
       "    }\n",
       "\n",
       "    .dataframe thead th {\n",
       "        text-align: right;\n",
       "    }\n",
       "</style>\n",
       "<table border=\"1\" class=\"dataframe\">\n",
       "  <thead>\n",
       "    <tr style=\"text-align: right;\">\n",
       "      <th></th>\n",
       "      <th>65</th>\n",
       "      <th>Time (ms)</th>\n",
       "      <th>Amplitude</th>\n",
       "      <th>Rise (ms)</th>\n",
       "      <th>Decay (ms)</th>\n",
       "      <th>Area</th>\n",
       "      <th>Baseline</th>\n",
       "      <th>Noise</th>\n",
       "      <th>Group</th>\n",
       "      <th>Channel</th>\n",
       "      <th>10-90Rise</th>\n",
       "      <th>HalfWidth</th>\n",
       "      <th>Rise50</th>\n",
       "      <th>Peak Dir</th>\n",
       "      <th>Burst#</th>\n",
       "      <th>BurstE#</th>\n",
       "      <th>10-90Slope</th>\n",
       "      <th>Rel Time</th>\n",
       "      <th>Unnamed: 18</th>\n",
       "    </tr>\n",
       "  </thead>\n",
       "  <tbody>\n",
       "    <tr>\n",
       "      <th>0</th>\n",
       "      <td>1</td>\n",
       "      <td>106.8</td>\n",
       "      <td>0.361</td>\n",
       "      <td>0.7</td>\n",
       "      <td>2.0</td>\n",
       "      <td>0.69</td>\n",
       "      <td>-8.295</td>\n",
       "      <td>0.055</td>\n",
       "      <td>0</td>\n",
       "      <td>0</td>\n",
       "      <td>0.57</td>\n",
       "      <td>2.38</td>\n",
       "      <td>0.5</td>\n",
       "      <td>1</td>\n",
       "      <td>0</td>\n",
       "      <td>0</td>\n",
       "      <td>0.51</td>\n",
       "      <td>106.8</td>\n",
       "      <td>NaN</td>\n",
       "    </tr>\n",
       "    <tr>\n",
       "      <th>1</th>\n",
       "      <td>2</td>\n",
       "      <td>834.8</td>\n",
       "      <td>0.694</td>\n",
       "      <td>1.1</td>\n",
       "      <td>8.0</td>\n",
       "      <td>5.07</td>\n",
       "      <td>-9.072</td>\n",
       "      <td>0.111</td>\n",
       "      <td>0</td>\n",
       "      <td>0</td>\n",
       "      <td>0.86</td>\n",
       "      <td>6.40</td>\n",
       "      <td>0.5</td>\n",
       "      <td>1</td>\n",
       "      <td>0</td>\n",
       "      <td>0</td>\n",
       "      <td>0.64</td>\n",
       "      <td>66.8</td>\n",
       "      <td>NaN</td>\n",
       "    </tr>\n",
       "    <tr>\n",
       "      <th>2</th>\n",
       "      <td>3</td>\n",
       "      <td>896.0</td>\n",
       "      <td>0.999</td>\n",
       "      <td>1.1</td>\n",
       "      <td>3.5</td>\n",
       "      <td>3.70</td>\n",
       "      <td>-8.795</td>\n",
       "      <td>0.139</td>\n",
       "      <td>0</td>\n",
       "      <td>0</td>\n",
       "      <td>0.81</td>\n",
       "      <td>4.18</td>\n",
       "      <td>0.7</td>\n",
       "      <td>1</td>\n",
       "      <td>0</td>\n",
       "      <td>0</td>\n",
       "      <td>0.99</td>\n",
       "      <td>128.0</td>\n",
       "      <td>NaN</td>\n",
       "    </tr>\n",
       "    <tr>\n",
       "      <th>3</th>\n",
       "      <td>4</td>\n",
       "      <td>1151.8</td>\n",
       "      <td>0.721</td>\n",
       "      <td>1.1</td>\n",
       "      <td>3.1</td>\n",
       "      <td>2.31</td>\n",
       "      <td>-8.767</td>\n",
       "      <td>0.055</td>\n",
       "      <td>0</td>\n",
       "      <td>0</td>\n",
       "      <td>0.75</td>\n",
       "      <td>3.63</td>\n",
       "      <td>0.6</td>\n",
       "      <td>1</td>\n",
       "      <td>0</td>\n",
       "      <td>0</td>\n",
       "      <td>0.77</td>\n",
       "      <td>76.6</td>\n",
       "      <td>NaN</td>\n",
       "    </tr>\n",
       "    <tr>\n",
       "      <th>4</th>\n",
       "      <td>5</td>\n",
       "      <td>1561.5</td>\n",
       "      <td>0.721</td>\n",
       "      <td>1.1</td>\n",
       "      <td>3.1</td>\n",
       "      <td>2.04</td>\n",
       "      <td>-8.600</td>\n",
       "      <td>0.000</td>\n",
       "      <td>0</td>\n",
       "      <td>0</td>\n",
       "      <td>0.84</td>\n",
       "      <td>3.55</td>\n",
       "      <td>0.6</td>\n",
       "      <td>1</td>\n",
       "      <td>0</td>\n",
       "      <td>0</td>\n",
       "      <td>0.69</td>\n",
       "      <td>25.5</td>\n",
       "      <td>NaN</td>\n",
       "    </tr>\n",
       "  </tbody>\n",
       "</table>\n",
       "</div>"
      ],
      "text/plain": [
       "   65  Time (ms)  Amplitude  Rise (ms)  Decay (ms)  Area  Baseline  Noise  \\\n",
       "0   1      106.8      0.361        0.7         2.0  0.69    -8.295  0.055   \n",
       "1   2      834.8      0.694        1.1         8.0  5.07    -9.072  0.111   \n",
       "2   3      896.0      0.999        1.1         3.5  3.70    -8.795  0.139   \n",
       "3   4     1151.8      0.721        1.1         3.1  2.31    -8.767  0.055   \n",
       "4   5     1561.5      0.721        1.1         3.1  2.04    -8.600  0.000   \n",
       "\n",
       "   Group  Channel  10-90Rise  HalfWidth  Rise50  Peak Dir  Burst#  BurstE#  \\\n",
       "0      0        0       0.57       2.38     0.5         1       0        0   \n",
       "1      0        0       0.86       6.40     0.5         1       0        0   \n",
       "2      0        0       0.81       4.18     0.7         1       0        0   \n",
       "3      0        0       0.75       3.63     0.6         1       0        0   \n",
       "4      0        0       0.84       3.55     0.6         1       0        0   \n",
       "\n",
       "   10-90Slope  Rel Time  Unnamed: 18  \n",
       "0        0.51     106.8          NaN  \n",
       "1        0.64      66.8          NaN  \n",
       "2        0.99     128.0          NaN  \n",
       "3        0.77      76.6          NaN  \n",
       "4        0.69      25.5          NaN  "
      ]
     },
     "execution_count": 6,
     "metadata": {},
     "output_type": "execute_result"
    }
   ],
   "source": [
    "from io import StringIO\n",
    "\n",
    "filename_ans = \"C:\\\\Results\\\\txt\\\\09022022\\\\Block11_answers.txt\"\n",
    "buf = StringIO()\n",
    "with open(filename_ans) as file:\n",
    "    for line in file:\n",
    "        fields = line.split(\"\\t\")\n",
    "        #print(fields)\n",
    "        fields[1] = fields[1].replace(\"В\\xa0\", \"\")\n",
    "        line = \"\\t\".join(fields)\n",
    "        buf.write(line)\n",
    "buf.seek(0)\n",
    "\n",
    "minis = pd.read_csv(buf, sep='\\t', decimal=\",\")\n",
    "\n",
    "minis.head()"
   ]
  },
  {
   "cell_type": "code",
   "execution_count": 11,
   "metadata": {},
   "outputs": [
    {
     "data": {
      "text/plain": [
       "array([  1061,   8337,   8949,  11507,  15604,  17873,  36864,  37043,\n",
       "        50475,  50783,  51522,  59150,  74863,  79182, 102669, 103358,\n",
       "       107245, 108868, 125021, 126496, 127272, 128046, 129652, 130129,\n",
       "       130793, 136141, 136993, 169976, 178661, 184969, 185577, 214041,\n",
       "       218708, 245031, 245267, 248563, 269447, 277628, 283424, 297187,\n",
       "       325385, 326597, 329673, 333296, 334507, 338056, 344072, 354234,\n",
       "       361596, 365761, 381272, 393750, 403201, 404806, 407017, 415837,\n",
       "       425479, 430455, 445251, 458696, 462270, 466577, 469779, 494319,\n",
       "       515251])"
      ]
     },
     "execution_count": 11,
     "metadata": {},
     "output_type": "execute_result"
    }
   ],
   "source": [
    "beginning_of_peak = ((minis['Time (ms)'] - minis['Rise (ms)'])*10).to_numpy()\n",
    "beginning_of_peak = beginning_of_peak.astype(int)\n",
    "beginning_of_peak"
   ]
  },
  {
   "cell_type": "code",
   "execution_count": 12,
   "metadata": {},
   "outputs": [
    {
     "data": {
      "text/plain": [
       "array([  1088,   8428,   8995,  11548,  15646,  17907,  36892,  37078,\n",
       "        50529,  50820,  51567,  59187,  74910,  79220, 102708, 103400,\n",
       "       107297, 108906, 125073, 126528, 127309, 128080, 129688, 130164,\n",
       "       130848, 136174, 137056, 170018, 178698, 185004, 185618, 214075,\n",
       "       218748, 245094, 245304, 248601, 269491, 277675, 283471, 297249,\n",
       "       325423, 326622, 329713, 333325, 334558, 338093, 344107, 354277,\n",
       "       361637, 365797, 381322, 393788, 403231, 404833, 407061, 415892,\n",
       "       425512, 430492, 445285, 458716, 462301, 466638, 469828, 494373,\n",
       "       515281])"
      ]
     },
     "execution_count": 12,
     "metadata": {},
     "output_type": "execute_result"
    }
   ],
   "source": [
    "end_of_peak = ((minis['Time (ms)'] + minis['Decay (ms)'])*10).to_numpy()\n",
    "end_of_peak = end_of_peak.astype(int)\n",
    "end_of_peak"
   ]
  },
  {
   "cell_type": "code",
   "execution_count": 15,
   "metadata": {},
   "outputs": [],
   "source": [
    "list_of_indices = sum(list(map(lambda x: list(range(*x)), zip(beginning_of_peak, end_of_peak))), [])"
   ]
  },
  {
   "cell_type": "code",
   "execution_count": 16,
   "metadata": {},
   "outputs": [],
   "source": [
    "data['labels'] = 0"
   ]
  },
  {
   "cell_type": "code",
   "execution_count": 17,
   "metadata": {},
   "outputs": [
    {
     "data": {
      "text/html": [
       "<div>\n",
       "<style scoped>\n",
       "    .dataframe tbody tr th:only-of-type {\n",
       "        vertical-align: middle;\n",
       "    }\n",
       "\n",
       "    .dataframe tbody tr th {\n",
       "        vertical-align: top;\n",
       "    }\n",
       "\n",
       "    .dataframe thead th {\n",
       "        text-align: right;\n",
       "    }\n",
       "</style>\n",
       "<table border=\"1\" class=\"dataframe\">\n",
       "  <thead>\n",
       "    <tr style=\"text-align: right;\">\n",
       "      <th></th>\n",
       "      <th>Время, s</th>\n",
       "      <th>Канал 1, V</th>\n",
       "      <th>labels</th>\n",
       "    </tr>\n",
       "  </thead>\n",
       "  <tbody>\n",
       "    <tr>\n",
       "      <th>0</th>\n",
       "      <td>0.000</td>\n",
       "      <td>0.009206</td>\n",
       "      <td>0</td>\n",
       "    </tr>\n",
       "    <tr>\n",
       "      <th>1</th>\n",
       "      <td>0.001</td>\n",
       "      <td>0.006606</td>\n",
       "      <td>0</td>\n",
       "    </tr>\n",
       "    <tr>\n",
       "      <th>2</th>\n",
       "      <td>0.002</td>\n",
       "      <td>0.006606</td>\n",
       "      <td>0</td>\n",
       "    </tr>\n",
       "    <tr>\n",
       "      <th>3</th>\n",
       "      <td>0.003</td>\n",
       "      <td>0.006606</td>\n",
       "      <td>0</td>\n",
       "    </tr>\n",
       "    <tr>\n",
       "      <th>4</th>\n",
       "      <td>0.004</td>\n",
       "      <td>0.006606</td>\n",
       "      <td>0</td>\n",
       "    </tr>\n",
       "  </tbody>\n",
       "</table>\n",
       "</div>"
      ],
      "text/plain": [
       "   Время, s  Канал 1, V  labels\n",
       "0     0.000    0.009206       0\n",
       "1     0.001    0.006606       0\n",
       "2     0.002    0.006606       0\n",
       "3     0.003    0.006606       0\n",
       "4     0.004    0.006606       0"
      ]
     },
     "execution_count": 17,
     "metadata": {},
     "output_type": "execute_result"
    }
   ],
   "source": [
    "data.head()"
   ]
  },
  {
   "cell_type": "code",
   "execution_count": 18,
   "metadata": {},
   "outputs": [],
   "source": [
    "data.iloc[list_of_indices, 2] = 1"
   ]
  },
  {
   "cell_type": "code",
   "execution_count": 19,
   "metadata": {},
   "outputs": [
    {
     "data": {
      "text/plain": [
       "1061      1\n",
       "1062      1\n",
       "1063      1\n",
       "1064      1\n",
       "1065      1\n",
       "         ..\n",
       "515276    1\n",
       "515277    1\n",
       "515278    1\n",
       "515279    1\n",
       "515280    1\n",
       "Name: labels, Length: 2685, dtype: int64"
      ]
     },
     "execution_count": 19,
     "metadata": {},
     "output_type": "execute_result"
    }
   ],
   "source": [
    "data.iloc[list_of_indices, 2]"
   ]
  },
  {
   "cell_type": "code",
   "execution_count": 20,
   "metadata": {},
   "outputs": [
    {
     "data": {
      "text/plain": [
       "1061    1\n",
       "1062    1\n",
       "1063    1\n",
       "1064    1\n",
       "1065    1\n",
       "1066    1\n",
       "1067    1\n",
       "1068    1\n",
       "1069    1\n",
       "1070    1\n",
       "1071    1\n",
       "1072    1\n",
       "1073    1\n",
       "1074    1\n",
       "1075    1\n",
       "1076    1\n",
       "1077    1\n",
       "1078    1\n",
       "1079    1\n",
       "1080    1\n",
       "1081    1\n",
       "1082    1\n",
       "1083    1\n",
       "1084    1\n",
       "1085    1\n",
       "1086    1\n",
       "1087    1\n",
       "1088    0\n",
       "1089    0\n",
       "1090    0\n",
       "1091    0\n",
       "1092    0\n",
       "1093    0\n",
       "1094    0\n",
       "1095    0\n",
       "1096    0\n",
       "1097    0\n",
       "1098    0\n",
       "1099    0\n",
       "Name: labels, dtype: int64"
      ]
     },
     "execution_count": 20,
     "metadata": {},
     "output_type": "execute_result"
    }
   ],
   "source": [
    "data.iloc[1061: 1100, 2]"
   ]
  },
  {
   "cell_type": "code",
   "execution_count": 25,
   "metadata": {},
   "outputs": [],
   "source": [
    "data.to_csv(path_or_buf='C:\\\\Results\\\\txt\\\\09022022\\\\Block11_labels.txt', float_format='%.6f')"
   ]
  },
  {
   "cell_type": "code",
   "execution_count": null,
   "metadata": {},
   "outputs": [],
   "source": []
  }
 ],
 "metadata": {
  "kernelspec": {
   "display_name": "Python 3",
   "language": "python",
   "name": "python3"
  },
  "language_info": {
   "codemirror_mode": {
    "name": "ipython",
    "version": 3
   },
   "file_extension": ".py",
   "mimetype": "text/x-python",
   "name": "python",
   "nbconvert_exporter": "python",
   "pygments_lexer": "ipython3",
   "version": "3.8.5"
  }
 },
 "nbformat": 4,
 "nbformat_minor": 4
}
