{
  "nbformat": 4,
  "nbformat_minor": 0,
  "metadata": {
    "colab": {
      "name": "Anomaly_detection_study_on_normal_data.ipynb",
      "provenance": []
    },
    "kernelspec": {
      "name": "python3",
      "display_name": "Python 3"
    },
    "language_info": {
      "name": "python"
    },
    "gpuClass": "standard",
    "accelerator": "GPU",
    "widgets": {
      "application/vnd.jupyter.widget-state+json": {
        "150602da27d944c1a42abba7f973fab6": {
          "model_module": "@jupyter-widgets/controls",
          "model_name": "HBoxModel",
          "model_module_version": "1.5.0",
          "state": {
            "_dom_classes": [],
            "_model_module": "@jupyter-widgets/controls",
            "_model_module_version": "1.5.0",
            "_model_name": "HBoxModel",
            "_view_count": null,
            "_view_module": "@jupyter-widgets/controls",
            "_view_module_version": "1.5.0",
            "_view_name": "HBoxView",
            "box_style": "",
            "children": [
              "IPY_MODEL_e2b87f3fb613440a9948b189fe760fb4",
              "IPY_MODEL_0dabdfe98e5d40bbb8416dedb2675833",
              "IPY_MODEL_e81d477219ef4d1eaadc4f4b7df5ef9b"
            ],
            "layout": "IPY_MODEL_90ba1686b0374d4180b46161beeefc68"
          }
        },
        "e2b87f3fb613440a9948b189fe760fb4": {
          "model_module": "@jupyter-widgets/controls",
          "model_name": "HTMLModel",
          "model_module_version": "1.5.0",
          "state": {
            "_dom_classes": [],
            "_model_module": "@jupyter-widgets/controls",
            "_model_module_version": "1.5.0",
            "_model_name": "HTMLModel",
            "_view_count": null,
            "_view_module": "@jupyter-widgets/controls",
            "_view_module_version": "1.5.0",
            "_view_name": "HTMLView",
            "description": "",
            "description_tooltip": null,
            "layout": "IPY_MODEL_df17edfec376497e93d6a4a28b038ffc",
            "placeholder": "​",
            "style": "IPY_MODEL_5a8c87ab8652456ab5cd237756230e5a",
            "value": "100%"
          }
        },
        "0dabdfe98e5d40bbb8416dedb2675833": {
          "model_module": "@jupyter-widgets/controls",
          "model_name": "FloatProgressModel",
          "model_module_version": "1.5.0",
          "state": {
            "_dom_classes": [],
            "_model_module": "@jupyter-widgets/controls",
            "_model_module_version": "1.5.0",
            "_model_name": "FloatProgressModel",
            "_view_count": null,
            "_view_module": "@jupyter-widgets/controls",
            "_view_module_version": "1.5.0",
            "_view_name": "ProgressView",
            "bar_style": "success",
            "description": "",
            "description_tooltip": null,
            "layout": "IPY_MODEL_391c03a072f64319a4be6a5825ffe928",
            "max": 1,
            "min": 0,
            "orientation": "horizontal",
            "style": "IPY_MODEL_a0af3c22704141e382733baceca2bc7e",
            "value": 1
          }
        },
        "e81d477219ef4d1eaadc4f4b7df5ef9b": {
          "model_module": "@jupyter-widgets/controls",
          "model_name": "HTMLModel",
          "model_module_version": "1.5.0",
          "state": {
            "_dom_classes": [],
            "_model_module": "@jupyter-widgets/controls",
            "_model_module_version": "1.5.0",
            "_model_name": "HTMLModel",
            "_view_count": null,
            "_view_module": "@jupyter-widgets/controls",
            "_view_module_version": "1.5.0",
            "_view_name": "HTMLView",
            "description": "",
            "description_tooltip": null,
            "layout": "IPY_MODEL_4dbb0896363c475b9704eefa3ba10448",
            "placeholder": "​",
            "style": "IPY_MODEL_775416657ebd4716bdf443f96572ab52",
            "value": " 1/1 [02:07&lt;00:00, 127.23s/it]"
          }
        },
        "90ba1686b0374d4180b46161beeefc68": {
          "model_module": "@jupyter-widgets/base",
          "model_name": "LayoutModel",
          "model_module_version": "1.2.0",
          "state": {
            "_model_module": "@jupyter-widgets/base",
            "_model_module_version": "1.2.0",
            "_model_name": "LayoutModel",
            "_view_count": null,
            "_view_module": "@jupyter-widgets/base",
            "_view_module_version": "1.2.0",
            "_view_name": "LayoutView",
            "align_content": null,
            "align_items": null,
            "align_self": null,
            "border": null,
            "bottom": null,
            "display": null,
            "flex": null,
            "flex_flow": null,
            "grid_area": null,
            "grid_auto_columns": null,
            "grid_auto_flow": null,
            "grid_auto_rows": null,
            "grid_column": null,
            "grid_gap": null,
            "grid_row": null,
            "grid_template_areas": null,
            "grid_template_columns": null,
            "grid_template_rows": null,
            "height": null,
            "justify_content": null,
            "justify_items": null,
            "left": null,
            "margin": null,
            "max_height": null,
            "max_width": null,
            "min_height": null,
            "min_width": null,
            "object_fit": null,
            "object_position": null,
            "order": null,
            "overflow": null,
            "overflow_x": null,
            "overflow_y": null,
            "padding": null,
            "right": null,
            "top": null,
            "visibility": null,
            "width": null
          }
        },
        "df17edfec376497e93d6a4a28b038ffc": {
          "model_module": "@jupyter-widgets/base",
          "model_name": "LayoutModel",
          "model_module_version": "1.2.0",
          "state": {
            "_model_module": "@jupyter-widgets/base",
            "_model_module_version": "1.2.0",
            "_model_name": "LayoutModel",
            "_view_count": null,
            "_view_module": "@jupyter-widgets/base",
            "_view_module_version": "1.2.0",
            "_view_name": "LayoutView",
            "align_content": null,
            "align_items": null,
            "align_self": null,
            "border": null,
            "bottom": null,
            "display": null,
            "flex": null,
            "flex_flow": null,
            "grid_area": null,
            "grid_auto_columns": null,
            "grid_auto_flow": null,
            "grid_auto_rows": null,
            "grid_column": null,
            "grid_gap": null,
            "grid_row": null,
            "grid_template_areas": null,
            "grid_template_columns": null,
            "grid_template_rows": null,
            "height": null,
            "justify_content": null,
            "justify_items": null,
            "left": null,
            "margin": null,
            "max_height": null,
            "max_width": null,
            "min_height": null,
            "min_width": null,
            "object_fit": null,
            "object_position": null,
            "order": null,
            "overflow": null,
            "overflow_x": null,
            "overflow_y": null,
            "padding": null,
            "right": null,
            "top": null,
            "visibility": null,
            "width": null
          }
        },
        "5a8c87ab8652456ab5cd237756230e5a": {
          "model_module": "@jupyter-widgets/controls",
          "model_name": "DescriptionStyleModel",
          "model_module_version": "1.5.0",
          "state": {
            "_model_module": "@jupyter-widgets/controls",
            "_model_module_version": "1.5.0",
            "_model_name": "DescriptionStyleModel",
            "_view_count": null,
            "_view_module": "@jupyter-widgets/base",
            "_view_module_version": "1.2.0",
            "_view_name": "StyleView",
            "description_width": ""
          }
        },
        "391c03a072f64319a4be6a5825ffe928": {
          "model_module": "@jupyter-widgets/base",
          "model_name": "LayoutModel",
          "model_module_version": "1.2.0",
          "state": {
            "_model_module": "@jupyter-widgets/base",
            "_model_module_version": "1.2.0",
            "_model_name": "LayoutModel",
            "_view_count": null,
            "_view_module": "@jupyter-widgets/base",
            "_view_module_version": "1.2.0",
            "_view_name": "LayoutView",
            "align_content": null,
            "align_items": null,
            "align_self": null,
            "border": null,
            "bottom": null,
            "display": null,
            "flex": null,
            "flex_flow": null,
            "grid_area": null,
            "grid_auto_columns": null,
            "grid_auto_flow": null,
            "grid_auto_rows": null,
            "grid_column": null,
            "grid_gap": null,
            "grid_row": null,
            "grid_template_areas": null,
            "grid_template_columns": null,
            "grid_template_rows": null,
            "height": null,
            "justify_content": null,
            "justify_items": null,
            "left": null,
            "margin": null,
            "max_height": null,
            "max_width": null,
            "min_height": null,
            "min_width": null,
            "object_fit": null,
            "object_position": null,
            "order": null,
            "overflow": null,
            "overflow_x": null,
            "overflow_y": null,
            "padding": null,
            "right": null,
            "top": null,
            "visibility": null,
            "width": null
          }
        },
        "a0af3c22704141e382733baceca2bc7e": {
          "model_module": "@jupyter-widgets/controls",
          "model_name": "ProgressStyleModel",
          "model_module_version": "1.5.0",
          "state": {
            "_model_module": "@jupyter-widgets/controls",
            "_model_module_version": "1.5.0",
            "_model_name": "ProgressStyleModel",
            "_view_count": null,
            "_view_module": "@jupyter-widgets/base",
            "_view_module_version": "1.2.0",
            "_view_name": "StyleView",
            "bar_color": null,
            "description_width": ""
          }
        },
        "4dbb0896363c475b9704eefa3ba10448": {
          "model_module": "@jupyter-widgets/base",
          "model_name": "LayoutModel",
          "model_module_version": "1.2.0",
          "state": {
            "_model_module": "@jupyter-widgets/base",
            "_model_module_version": "1.2.0",
            "_model_name": "LayoutModel",
            "_view_count": null,
            "_view_module": "@jupyter-widgets/base",
            "_view_module_version": "1.2.0",
            "_view_name": "LayoutView",
            "align_content": null,
            "align_items": null,
            "align_self": null,
            "border": null,
            "bottom": null,
            "display": null,
            "flex": null,
            "flex_flow": null,
            "grid_area": null,
            "grid_auto_columns": null,
            "grid_auto_flow": null,
            "grid_auto_rows": null,
            "grid_column": null,
            "grid_gap": null,
            "grid_row": null,
            "grid_template_areas": null,
            "grid_template_columns": null,
            "grid_template_rows": null,
            "height": null,
            "justify_content": null,
            "justify_items": null,
            "left": null,
            "margin": null,
            "max_height": null,
            "max_width": null,
            "min_height": null,
            "min_width": null,
            "object_fit": null,
            "object_position": null,
            "order": null,
            "overflow": null,
            "overflow_x": null,
            "overflow_y": null,
            "padding": null,
            "right": null,
            "top": null,
            "visibility": null,
            "width": null
          }
        },
        "775416657ebd4716bdf443f96572ab52": {
          "model_module": "@jupyter-widgets/controls",
          "model_name": "DescriptionStyleModel",
          "model_module_version": "1.5.0",
          "state": {
            "_model_module": "@jupyter-widgets/controls",
            "_model_module_version": "1.5.0",
            "_model_name": "DescriptionStyleModel",
            "_view_count": null,
            "_view_module": "@jupyter-widgets/base",
            "_view_module_version": "1.2.0",
            "_view_name": "StyleView",
            "description_width": ""
          }
        }
      }
    }
  },
  "cells": [
    {
      "cell_type": "markdown",
      "source": [
        "Idea: https://stepik.org/lesson/532600/step/1?auth=login&unit=717336"
      ],
      "metadata": {
        "id": "Att0ruTJSXgf"
      }
    },
    {
      "cell_type": "code",
      "execution_count": 1,
      "metadata": {
        "id": "BROfx1k3Ab83"
      },
      "outputs": [],
      "source": [
        "import numpy as np\n",
        "import pandas as pd\n",
        "import torch\n",
        "import torch.nn.functional as F\n",
        "import seaborn as sns\n",
        "import os\n",
        "import torch\n",
        "import random\n",
        "import torch.optim as optim\n",
        "from torch import nn\n",
        "from torch.utils.tensorboard import SummaryWriter\n",
        "from torch.utils.data import DataLoader\n",
        "from torch.utils.data import Dataset\n",
        "from matplotlib import pyplot as plt\n",
        "from statistics import mean\n",
        "from tqdm import tqdm_notebook\n",
        "from sklearn.model_selection import train_test_split"
      ]
    },
    {
      "cell_type": "markdown",
      "source": [
        "# Downloading data"
      ],
      "metadata": {
        "id": "qqDrqpagAjlC"
      }
    },
    {
      "cell_type": "code",
      "source": [
        "# get data files from my github\n",
        "\n",
        "!git clone https://github.com/NatashaKhotkina/Neural_network_project.git\n",
        "!cp -r Neural_network_project/data .\n",
        "!rm -rf Neural_network_project"
      ],
      "metadata": {
        "colab": {
          "base_uri": "https://localhost:8080/"
        },
        "id": "AoTViDYnA6si",
        "outputId": "8b6737ae-7fb9-4467-cb31-c811d9e3a97a"
      },
      "execution_count": 2,
      "outputs": [
        {
          "output_type": "stream",
          "name": "stdout",
          "text": [
            "Cloning into 'Neural_network_project'...\n",
            "remote: Enumerating objects: 161, done.\u001b[K\n",
            "remote: Counting objects: 100% (24/24), done.\u001b[K\n",
            "remote: Compressing objects: 100% (16/16), done.\u001b[K\n",
            "remote: Total 161 (delta 6), reused 24 (delta 6), pack-reused 137\u001b[K\n",
            "Receiving objects: 100% (161/161), 262.88 MiB | 16.49 MiB/s, done.\n",
            "Resolving deltas: 100% (7/7), done.\n",
            "Checking out files: 100% (138/138), done.\n"
          ]
        }
      ]
    },
    {
      "cell_type": "code",
      "source": [
        "path_to_folder = 'data'"
      ],
      "metadata": {
        "id": "3QTY4cPWwGjf"
      },
      "execution_count": 3,
      "outputs": []
    },
    {
      "cell_type": "code",
      "source": [
        "list_of_filenames = os.listdir(path_to_folder)\n",
        "list_of_filenames = sorted(list_of_filenames, reverse=True)"
      ],
      "metadata": {
        "id": "QccIhz_1BTJA"
      },
      "execution_count": 6,
      "outputs": []
    },
    {
      "cell_type": "code",
      "source": [
        "list_of_filenames_test = list_of_filenames[-17:]\n",
        "list_of_filenames_test"
      ],
      "metadata": {
        "colab": {
          "base_uri": "https://localhost:8080/"
        },
        "id": "tfPb6_5eGNQm",
        "outputId": "a7d23421-e052-4229-e6ce-ac4f3131e8b8"
      },
      "execution_count": 7,
      "outputs": [
        {
          "output_type": "execute_result",
          "data": {
            "text/plain": [
              "['03122020_Block2_labels.txt',\n",
              " '03122020_Block1_labels.txt',\n",
              " '03122020_Block15_labels.txt',\n",
              " '03122020_Block12_labels.txt',\n",
              " '03122020_Block10_labels.txt',\n",
              " '01122020_Block9_labels.txt',\n",
              " '01122020_Block8_labels.txt',\n",
              " '01122020_Block7_labels.txt',\n",
              " '01122020_Block6_labels.txt',\n",
              " '01122020_Block5_labels.txt',\n",
              " '01122020_Block4_labels.txt',\n",
              " '01122020_Block3_labels.txt',\n",
              " '01122020_Block2_labels.txt',\n",
              " '01122020_Block1_labels.txt',\n",
              " '01122020_Block12_labels.txt',\n",
              " '01122020_Block11_labels.txt',\n",
              " '01122020_Block10_labels.txt']"
            ]
          },
          "metadata": {},
          "execution_count": 7
        }
      ]
    },
    {
      "cell_type": "code",
      "source": [
        "# makes patches (only with noise) of size 40 with stride 1\n",
        "\n",
        "def make_patches(voltage, labels, patch_len = 40, stride = 1):\n",
        "  voltage_patches = []\n",
        "  length = len(voltage)\n",
        "  length = length - (length % patch_len)\n",
        "  for i in range(0, length, stride):\n",
        "    v_p = voltage[i:i+patch_len]\n",
        "    l_p = labels[i:i+patch_len]\n",
        "    if len(l_p) == patch_len and sum(l_p) == 0:\n",
        "      voltage_patches.append(v_p)\n",
        "  return voltage_patches"
      ],
      "metadata": {
        "id": "psEDcKydxfx5"
      },
      "execution_count": null,
      "outputs": []
    },
    {
      "cell_type": "code",
      "source": [
        "# downloads a file and makes patches\n",
        "\n",
        "def load_group(filename, path_to_folder):\n",
        "  path_to_file = os.path.join(path_to_folder, filename)\n",
        "  data = pd.read_csv(path_to_file)\n",
        "  voltage = torch.tensor(data['Voltage'].values, dtype=torch.float32)\n",
        "  training_mean = voltage.mean()\n",
        "  training_std = voltage.std()\n",
        "  voltage = (voltage - training_mean) / training_std\n",
        "  labels = data['labels'].to_numpy()\n",
        "  voltage_patches = make_patches(voltage, labels)\n",
        "  return voltage_patches"
      ],
      "metadata": {
        "id": "WSkD26XzBXcF"
      },
      "execution_count": null,
      "outputs": []
    },
    {
      "cell_type": "code",
      "source": [
        "FILENAME = list_of_filenames_test[16]\n",
        "list_of_filenames_test[16]"
      ],
      "metadata": {
        "id": "VBg7R6sCJ4Ry",
        "colab": {
          "base_uri": "https://localhost:8080/",
          "height": 36
        },
        "outputId": "d38b9f63-050c-4b22-fcc7-87717bf98be0"
      },
      "execution_count": null,
      "outputs": [
        {
          "output_type": "execute_result",
          "data": {
            "text/plain": [
              "'29102020_Block9_labels.txt'"
            ],
            "application/vnd.google.colaboratory.intrinsic+json": {
              "type": "string"
            }
          },
          "metadata": {},
          "execution_count": 71
        }
      ]
    },
    {
      "cell_type": "code",
      "source": [
        "X = load_group(FILENAME, path_to_folder)\n",
        "X = torch.stack(X).unsqueeze(1)"
      ],
      "metadata": {
        "id": "IEoGZTvsC6dg"
      },
      "execution_count": null,
      "outputs": []
    },
    {
      "cell_type": "code",
      "source": [
        "x_train, x_val = train_test_split(X, train_size=0.9, shuffle=True)\n",
        "print(\"Training input shape: \", x_train.shape)"
      ],
      "metadata": {
        "colab": {
          "base_uri": "https://localhost:8080/"
        },
        "id": "EiB6JE64C6h-",
        "outputId": "1130c4de-b51b-46d3-b469-b3cbf8d67af9"
      },
      "execution_count": null,
      "outputs": [
        {
          "output_type": "stream",
          "name": "stdout",
          "text": [
            "Training input shape:  torch.Size([525024, 1, 40])\n"
          ]
        }
      ]
    },
    {
      "cell_type": "code",
      "source": [
        "train_loader = torch.utils.data.DataLoader(x_train, batch_size=512)\n",
        "val_loader = torch.utils.data.DataLoader(x_val, batch_size=64)"
      ],
      "metadata": {
        "id": "DSkC6VW6Efz9"
      },
      "execution_count": null,
      "outputs": []
    },
    {
      "cell_type": "markdown",
      "source": [
        "# Model"
      ],
      "metadata": {
        "id": "4Afs4DdiElgT"
      }
    },
    {
      "cell_type": "code",
      "source": [
        "class Autoencoder(torch.nn.Module):\n",
        "  def __init__(self):\n",
        "    super().__init__()\n",
        "    self.encoder = nn.Sequential(\n",
        "        nn.Conv1d(1, 32, kernel_size=7, stride=1, padding=3),\n",
        "        nn.ReLU(),\n",
        "        nn.Conv1d(32, 16, kernel_size=7, stride=1, padding=3),\n",
        "        nn.ReLU(),\n",
        "    )\n",
        "    self.decoder = nn.Sequential(\n",
        "        nn.ConvTranspose1d(16, 16, kernel_size=7, stride=1, padding=3),\n",
        "        nn.ReLU(),\n",
        "        nn.Dropout(0.2),\n",
        "        nn.ConvTranspose1d(16, 32, kernel_size=7, stride=1, padding=3),\n",
        "        nn.ReLU(),\n",
        "        nn.ConvTranspose1d(32, 1, kernel_size=7, stride=1, padding=3),\n",
        "    )\n",
        "\n",
        "  def forward(self, sample):\n",
        "    latent = self.encoder(sample)\n",
        "    reconstructed = self.decoder(latent)\n",
        "    return reconstructed"
      ],
      "metadata": {
        "id": "LUbx6NCbEkua"
      },
      "execution_count": null,
      "outputs": []
    },
    {
      "cell_type": "markdown",
      "source": [
        "# Training"
      ],
      "metadata": {
        "id": "PA5w9NuVEsVe"
      }
    },
    {
      "cell_type": "code",
      "source": [
        "n_epochs = 1\n",
        "device = 'cuda:0' if torch.cuda.is_available() else 'cpu'\n",
        "\n",
        "model = Autoencoder().to(device)\n",
        "optimizer = torch.optim.Adam(model.parameters(), lr=0.001)\n",
        "loss_fn = F.mse_loss\n",
        "train_losses = []\n",
        "val_losses = []\n",
        "\n",
        "for epoch in tqdm_notebook(range(n_epochs)):\n",
        "    model.train()\n",
        "    train_losses_per_epoch = []\n",
        "    for i, X_batch in enumerate(train_loader):\n",
        "        optimizer.zero_grad()\n",
        "        reconstructed = model(X_batch.to(device))\n",
        "        loss = loss_fn(reconstructed, X_batch.to(device))\n",
        "        loss.backward()\n",
        "        optimizer.step()\n",
        "        train_losses.append(loss.item())\n",
        "\n",
        "\n",
        "    model.eval()\n",
        "    with torch.no_grad():\n",
        "        for X_batch in val_loader:\n",
        "          reconstructed = model(X_batch.to(device))\n",
        "          loss = loss_fn(reconstructed, X_batch.to(device))\n",
        "          val_losses.append(loss.item())\n"
      ],
      "metadata": {
        "colab": {
          "base_uri": "https://localhost:8080/",
          "height": 101,
          "referenced_widgets": [
            "150602da27d944c1a42abba7f973fab6",
            "e2b87f3fb613440a9948b189fe760fb4",
            "0dabdfe98e5d40bbb8416dedb2675833",
            "e81d477219ef4d1eaadc4f4b7df5ef9b",
            "90ba1686b0374d4180b46161beeefc68",
            "df17edfec376497e93d6a4a28b038ffc",
            "5a8c87ab8652456ab5cd237756230e5a",
            "391c03a072f64319a4be6a5825ffe928",
            "a0af3c22704141e382733baceca2bc7e",
            "4dbb0896363c475b9704eefa3ba10448",
            "775416657ebd4716bdf443f96572ab52"
          ]
        },
        "id": "oaRzgivDErcD",
        "outputId": "49d8e716-8f4a-4368-81a8-009475f70ce7"
      },
      "execution_count": null,
      "outputs": [
        {
          "output_type": "stream",
          "name": "stderr",
          "text": [
            "/usr/local/lib/python3.7/dist-packages/ipykernel_launcher.py:10: TqdmDeprecationWarning: This function will be removed in tqdm==5.0.0\n",
            "Please use `tqdm.notebook.tqdm` instead of `tqdm.tqdm_notebook`\n",
            "  # Remove the CWD from sys.path while we load stuff.\n"
          ]
        },
        {
          "output_type": "display_data",
          "data": {
            "text/plain": [
              "  0%|          | 0/1 [00:00<?, ?it/s]"
            ],
            "application/vnd.jupyter.widget-view+json": {
              "version_major": 2,
              "version_minor": 0,
              "model_id": "150602da27d944c1a42abba7f973fab6"
            }
          },
          "metadata": {}
        }
      ]
    },
    {
      "cell_type": "code",
      "source": [
        "# train loss after each batch (1 epoch)\n",
        "\n",
        "plt.figure(figsize=(10, 7))\n",
        "plt.plot(np.arange(len(train_losses)), train_losses, label='Train')\n",
        "#plt.plot(np.arange(len(val_losses)), val_losses, label='Validation')\n",
        "\n",
        "plt.ylim(0, 0.5)\n",
        "plt.xlabel('Batch')\n",
        "plt.title('MSE loss')\n",
        "plt.legend()\n",
        "plt.show()"
      ],
      "metadata": {
        "colab": {
          "base_uri": "https://localhost:8080/",
          "height": 458
        },
        "id": "_G20WqAWEy2S",
        "outputId": "be261f04-a43e-4601-8a60-ba9bac395437"
      },
      "execution_count": null,
      "outputs": [
        {
          "output_type": "display_data",
          "data": {
            "text/plain": [
              "<Figure size 720x504 with 1 Axes>"
            ],
            "image/png": "[encoded data removed]"
          },
          "metadata": {
            "needs_background": "light"
          }
        }
      ]
    },
    {
      "cell_type": "code",
      "source": [
        "mean(val_losses) # mean validation loss"
      ],
      "metadata": {
        "colab": {
          "base_uri": "https://localhost:8080/"
        },
        "id": "dQPZD2Vh2-is",
        "outputId": "c034c96b-02d7-4718-8a47-37edbccac269"
      },
      "execution_count": null,
      "outputs": [
        {
          "output_type": "execute_result",
          "data": {
            "text/plain": [
              "0.021922838006152266"
            ]
          },
          "metadata": {},
          "execution_count": 77
        }
      ]
    },
    {
      "cell_type": "markdown",
      "source": [
        "# Anomaly detection"
      ],
      "metadata": {
        "id": "41GU9TufFC6M"
      }
    },
    {
      "cell_type": "code",
      "source": [
        "# makes patches of size 40 with stride 1\n",
        "\n",
        "def make_test_patches(voltage, labels, patch_len = 40, stride = 1):\n",
        "  voltage_patches = []\n",
        "  label_patches = []\n",
        "  length = len(voltage)\n",
        "  length = length - (length % patch_len)\n",
        "  for i in range(0, length, stride):\n",
        "    v_p = voltage[i:i+patch_len]\n",
        "    l_p = labels[i:i+patch_len]\n",
        "    if len(l_p) == patch_len:\n",
        "      voltage_patches.append(v_p)\n",
        "      label_patches.append(l_p)\n",
        "  return voltage_patches, label_patches"
      ],
      "metadata": {
        "id": "sQuJGQpBSz6G"
      },
      "execution_count": null,
      "outputs": []
    },
    {
      "cell_type": "code",
      "source": [
        "# downloads a file, returns columns \"Voltage\" as pd.DataFrame, column \"labels\" as np.ndarray makes patches of voltage\n",
        "\n",
        "def load_test_group(filename, path_to_folder):\n",
        "  path_to_file = os.path.join(path_to_folder, filename)\n",
        "  data = pd.read_csv(path_to_file)\n",
        "  voltage_pandas = data['Voltage']\n",
        "  voltage = torch.tensor(data['Voltage'].values, dtype=torch.float32)\n",
        "  training_mean = voltage.mean()\n",
        "  training_std = voltage.std()\n",
        "  voltage = (voltage - training_mean) / training_std\n",
        "  labels = data['labels'].to_numpy()\n",
        "  voltage_patches, label_patches = make_test_patches(voltage, labels)\n",
        "  return voltage_pandas, labels, voltage_patches"
      ],
      "metadata": {
        "id": "6hzikydCWxG5"
      },
      "execution_count": null,
      "outputs": []
    },
    {
      "cell_type": "code",
      "source": [
        "voltage_test, labels_test, x_test = load_test_group(FILENAME, path_to_folder)\n",
        "x_test = torch.stack(x_test).unsqueeze(1)\n",
        "test_loader = torch.utils.data.DataLoader(x_test, shuffle=False)\n",
        "print(\"Test input shape: \", x_test.shape)"
      ],
      "metadata": {
        "colab": {
          "base_uri": "https://localhost:8080/"
        },
        "id": "3M7NuHnNjf2u",
        "outputId": "c79e3966-7ebb-4acc-9b92-cb602a305209"
      },
      "execution_count": null,
      "outputs": [
        {
          "output_type": "stream",
          "name": "stdout",
          "text": [
            "Test input shape:  torch.Size([586665, 1, 40])\n"
          ]
        }
      ]
    },
    {
      "cell_type": "code",
      "source": [
        "# gets MAE loss for each patch (batch_size = 1)\n",
        "\n",
        "test_losses = []\n",
        "x_pred = []\n",
        "\n",
        "with torch.no_grad():\n",
        "  for batch in test_loader:\n",
        "    pred = model(batch.to(device)).cpu().numpy()\n",
        "    mae_loss = np.mean(np.abs(pred - batch.numpy()))\n",
        "    test_losses.append(mae_loss)\n",
        "    x_pred.append(pred.ravel())\n",
        "\n",
        "\n",
        "test_losses = np.array(test_losses).reshape((-1))"
      ],
      "metadata": {
        "id": "4DrOAeWiE91g"
      },
      "execution_count": null,
      "outputs": []
    },
    {
      "cell_type": "code",
      "source": [
        "# Reconstruction\n",
        "\n",
        "plt.figure(figsize=(15, 4))\n",
        "plt.plot(X[0].numpy().ravel(), label='Ground truth')\n",
        "plt.plot(x_pred[0], label='Predicted')\n",
        "\n",
        "plt.legend()\n",
        "plt.show()"
      ],
      "metadata": {
        "colab": {
          "base_uri": "https://localhost:8080/",
          "height": 265
        },
        "id": "MmjrKIGpCrdG",
        "outputId": "78cca6c5-171d-4bbe-bc41-d146e9646d27"
      },
      "execution_count": null,
      "outputs": [
        {
          "output_type": "display_data",
          "data": {
            "text/plain": [
              "<Figure size 1080x288 with 1 Axes>"
            ],
            "image/png": "[encoded data removed]"
          },
          "metadata": {
            "needs_background": "light"
          }
        }
      ]
    },
    {
      "cell_type": "code",
      "source": [
        "# Histogram of MAE losses, counted for each patch\n",
        "\n",
        "plt.figure(figsize=(15, 4))\n",
        "plt.hist(test_losses, bins=50)\n",
        "plt.xlabel(\"test MAE loss\")\n",
        "plt.ylabel(\"No of samples\")\n",
        "plt.show()"
      ],
      "metadata": {
        "colab": {
          "base_uri": "https://localhost:8080/",
          "height": 279
        },
        "id": "fDRYux37lT6q",
        "outputId": "765d59cc-9969-461c-e073-29aac1190aa1"
      },
      "execution_count": null,
      "outputs": [
        {
          "output_type": "display_data",
          "data": {
            "text/plain": [
              "<Figure size 1080x288 with 1 Axes>"
            ],
            "image/png": "[encoded data removed]"
          },
          "metadata": {
            "needs_background": "light"
          }
        }
      ]
    },
    {
      "cell_type": "code",
      "source": [
        "max(test_losses)"
      ],
      "metadata": {
        "colab": {
          "base_uri": "https://localhost:8080/"
        },
        "id": "bvj_vMvpsPZy",
        "outputId": "956d1675-802f-454b-9da1-157369e4bf21"
      },
      "execution_count": null,
      "outputs": [
        {
          "output_type": "execute_result",
          "data": {
            "text/plain": [
              "1.5543387"
            ]
          },
          "metadata": {},
          "execution_count": 84
        }
      ]
    },
    {
      "cell_type": "code",
      "source": [
        "threshold = np.quantile(test_losses, 0.997)\n",
        "np.quantile(test_losses, 0.997)"
      ],
      "metadata": {
        "id": "bBpHShNx8jm4",
        "colab": {
          "base_uri": "https://localhost:8080/"
        },
        "outputId": "97dd7cfd-99d5-4ceb-8d6a-177857e9e375"
      },
      "execution_count": null,
      "outputs": [
        {
          "output_type": "execute_result",
          "data": {
            "text/plain": [
              "0.6532008857727134"
            ]
          },
          "metadata": {},
          "execution_count": 96
        }
      ]
    },
    {
      "cell_type": "code",
      "source": [
        "# Those patches, that have MAE loss > threshold, are anomalous - they contain anomalous data.\n",
        "\n",
        "anomalies = test_losses > threshold\n",
        "print(\"Number of anomaly samples: \", np.sum(anomalies))\n",
        "print(\"Indices of anomaly samples: \", np.where(anomalies))"
      ],
      "metadata": {
        "id": "frcvtu00tgs4",
        "colab": {
          "base_uri": "https://localhost:8080/"
        },
        "outputId": "1b6b38c6-7571-4917-ab53-188d3ac32347"
      },
      "execution_count": null,
      "outputs": [
        {
          "output_type": "stream",
          "name": "stdout",
          "text": [
            "Number of anomaly samples:  1760\n",
            "Indices of anomaly samples:  (array([  3973,   3974,   3975, ..., 565173, 565174, 565175]),)\n"
          ]
        }
      ]
    },
    {
      "cell_type": "markdown",
      "source": [
        "# Graphs"
      ],
      "metadata": {
        "id": "5oRI5Ra4FLQW"
      }
    },
    {
      "cell_type": "code",
      "source": [
        "# data i is an anomaly if samples [(i - TIMESTEPS + 1) to (i)] are anomalies\n",
        "TIMESTEPS = 20\n",
        "anomalous_data_indices = []\n",
        "for data_idx in range(TIMESTEPS - 1, len(voltage_test) - TIMESTEPS + 1):\n",
        "    if np.all(anomalies[data_idx - TIMESTEPS + 1 : data_idx]):\n",
        "        anomalous_data_indices.append(data_idx)"
      ],
      "metadata": {
        "id": "xNn3_FwsE96A"
      },
      "execution_count": null,
      "outputs": []
    },
    {
      "cell_type": "code",
      "source": [
        "len(anomalous_data_indices)"
      ],
      "metadata": {
        "colab": {
          "base_uri": "https://localhost:8080/"
        },
        "id": "_qlbkX-mnBJq",
        "outputId": "19d14eaa-ebc1-4d65-8df7-7e1a728be483"
      },
      "execution_count": null,
      "outputs": [
        {
          "output_type": "execute_result",
          "data": {
            "text/plain": [
              "757"
            ]
          },
          "metadata": {},
          "execution_count": 99
        }
      ]
    },
    {
      "cell_type": "code",
      "source": [
        "df_subset = voltage_test.iloc[anomalous_data_indices].to_frame()\n",
        "fig, ax = plt.subplots(figsize=(15, 4))\n",
        "voltage_test.plot(legend=False, ax=ax)\n",
        "plt.scatter(x = df_subset.index, y = df_subset['Voltage'], color=\"r\")\n",
        "#df_subset.plot(y = df_subset.index, legend=False, ax=ax, color=\"r\", kind='scatter')\n",
        "plt.show()"
      ],
      "metadata": {
        "colab": {
          "base_uri": "https://localhost:8080/",
          "height": 265
        },
        "id": "OjAzF9D6kIyM",
        "outputId": "a6b5b863-d864-444f-addd-35f657642f1d"
      },
      "execution_count": null,
      "outputs": [
        {
          "output_type": "display_data",
          "data": {
            "text/plain": [
              "<Figure size 1080x288 with 1 Axes>"
            ],
            "image/png": "[encoded data removed]"
          },
          "metadata": {
            "needs_background": "light"
          }
        }
      ]
    },
    {
      "cell_type": "markdown",
      "source": [
        "# Code for evaluation"
      ],
      "metadata": {
        "id": "Ca33WyEamzE7"
      }
    },
    {
      "cell_type": "code",
      "source": [
        "def find_central_index (ind_array):\n",
        "  #ind_array = ind_array.tolist()\n",
        "  central_indices = []\n",
        "  junk_list = []\n",
        "  lenght = len(ind_array)\n",
        "  for i, ind in enumerate(ind_array):\n",
        "    junk_list.append(ind)\n",
        "    if i < lenght - 1 and (ind_array[i+1] != (ind + 1)):\n",
        "      central_index = int(mean(junk_list))\n",
        "      central_indices.append(central_index)\n",
        "      junk_list = []\n",
        "  return central_indices"
      ],
      "metadata": {
        "id": "jGsY1YsVT5rx"
      },
      "execution_count": null,
      "outputs": []
    },
    {
      "cell_type": "code",
      "source": [
        "true_indices = np.where(labels_test == 1)"
      ],
      "metadata": {
        "id": "NTqxzHZkTi78"
      },
      "execution_count": null,
      "outputs": []
    },
    {
      "cell_type": "code",
      "source": [
        "a_central_indices = find_central_index(anomalous_data_indices)"
      ],
      "metadata": {
        "id": "EOjnzyN_dou5"
      },
      "execution_count": null,
      "outputs": []
    },
    {
      "cell_type": "code",
      "source": [
        "t_central_indices = find_central_index(true_indices[0])"
      ],
      "metadata": {
        "id": "kg507-ZHdryo"
      },
      "execution_count": null,
      "outputs": []
    },
    {
      "cell_type": "code",
      "source": [
        "print(a_central_indices) #predicted\n",
        "print(len(a_central_indices))"
      ],
      "metadata": {
        "colab": {
          "base_uri": "https://localhost:8080/"
        },
        "id": "vkpysBTDd9Fz",
        "outputId": "9f9e346f-b3fe-45c2-ccab-c2899f01690d"
      },
      "execution_count": null,
      "outputs": [
        {
          "output_type": "stream",
          "name": "stdout",
          "text": [
            "[4004, 9685, 22555, 31183, 42910, 45553, 61011, 74497, 76140, 88911, 97491, 111537, 114007, 114354, 120931, 123855, 145112, 159625, 164735, 174128, 182819, 195975, 207122, 257828, 263257, 273408, 298498, 318553, 334422, 340420, 356698, 359461, 374982, 390502, 396358, 406246, 422102, 460364, 460980, 462254, 464142, 484135, 489811, 492613, 509548, 535903, 538418, 548826, 555627]\n",
            "49\n"
          ]
        }
      ]
    },
    {
      "cell_type": "code",
      "source": [
        "print(t_central_indices) #true\n",
        "print(len(t_central_indices))"
      ],
      "metadata": {
        "colab": {
          "base_uri": "https://localhost:8080/"
        },
        "id": "4Rj9WeQqeGoO",
        "outputId": "a69dfd74-ba51-401d-e5af-b4df418671af"
      },
      "execution_count": null,
      "outputs": [
        {
          "output_type": "stream",
          "name": "stdout",
          "text": [
            "[9692, 22562, 31189, 42916, 45556, 61016, 74504, 76146, 88916, 97498, 111546, 114012, 114359, 120939, 123859, 164742, 174134, 195981, 207128, 257834, 263265, 273415, 289243, 310085, 332727, 334428, 336479, 340432, 351292, 356704, 359467, 374986, 390508, 406254, 422108, 460371, 460984, 462260, 464147, 484141, 489818, 492618, 509554, 533312, 535910]\n",
            "45\n"
          ]
        }
      ]
    },
    {
      "cell_type": "markdown",
      "source": [
        "Precision, recall, F1 are im README.md."
      ],
      "metadata": {
        "id": "TzVCcUmcHST2"
      }
    }
  ]
}