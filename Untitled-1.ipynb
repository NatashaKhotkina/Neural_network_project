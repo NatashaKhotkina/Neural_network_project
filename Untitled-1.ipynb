{
    "cells": [
        {
            "cell_type": "code",
            "execution_count": null,
            "metadata": {},
            "outputs": [],
            "source": [
                "s = input()\n",
                "print(max(map(lambda x: (s.count(x), x), s))[1])"
            ]
        },
        {
            "cell_type": "code",
            "execution_count": null,
            "metadata": {},
            "outputs": [],
            "source": [
                "s = 'wasserstein'\n",
                "print(map(lambda x: (s.count(x), x), s))"
            ]
        },
        {
            "cell_type": "code",
            "execution_count": null,
            "metadata": {},
            "outputs": [],
            "source": [
                "import numpy as np\n",
                "import torch"
            ]
        },
        {
            "cell_type": "code",
            "execution_count": null,
            "metadata": {},
            "outputs": [],
            "source": [
                "d = {torch.Tensor([0, 1]):0,torch.Tensor([1, 1]):0}"
            ]
        },
        {
            "cell_type": "code",
            "execution_count": 14,
            "metadata": {},
            "outputs": [
                {
                    "name": "stderr",
                    "output_type": "stream",
                    "text": [
                        "Downloading...\n",
                        "From: https://drive.google.com/uc?id=1VFbDK-Ad-hpf0_GGCBzn4thdn9mkQ-Y-\n",
                        "To: c:\\Users\\dyuga\\Документы\\heart.csv\n",
                        "\n",
                        "  0%|          | 0.00/11.3k [00:00<?, ?B/s]\n",
                        "100%|██████████| 11.3k/11.3k [00:00<?, ?B/s]\n"
                    ]
                }
            ],
            "source": [
                "!gdown  --id 1VFbDK-Ad-hpf0_GGCBzn4thdn9mkQ-Y- -O heart.csv "
            ]
        }
    ],
    "metadata": {
        "interpreter": {
            "hash": "fb1d24c968133b11e1e2ac3312a5d3db177329cd6e21ed113015d985883944e2"
        },
        "kernelspec": {
            "display_name": "Python (msu_ai)",
            "language": "python",
            "name": "msu_ai"
        },
        "language_info": {
            "codemirror_mode": {
                "name": "ipython",
                "version": 3
            },
            "file_extension": ".py",
            "mimetype": "text/x-python",
            "name": "python",
            "nbconvert_exporter": "python",
            "pygments_lexer": "ipython3",
            "version": "3.9.6"
        },
        "orig_nbformat": 4
    },
    "nbformat": 4,
    "nbformat_minor": 2
}
