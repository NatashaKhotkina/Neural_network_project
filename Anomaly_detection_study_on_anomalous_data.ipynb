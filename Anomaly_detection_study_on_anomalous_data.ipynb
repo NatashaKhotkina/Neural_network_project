{
  "nbformat": 4,
  "nbformat_minor": 0,
  "metadata": {
    "colab": {
      "name": "Anomaly_detection_study_on_anomalous_data",
      "provenance": []
    },
    "kernelspec": {
      "name": "python3",
      "display_name": "Python 3"
    },
    "language_info": {
      "name": "python"
    },
    "gpuClass": "standard",
    "accelerator": "GPU",
    "widgets": {
      "application/vnd.jupyter.widget-state+json": {
        "ecd8d6ff606f475387b67e6f31e7ca39": {
          "model_module": "@jupyter-widgets/controls",
          "model_name": "HBoxModel",
          "model_module_version": "1.5.0",
          "state": {
            "_dom_classes": [],
            "_model_module": "@jupyter-widgets/controls",
            "_model_module_version": "1.5.0",
            "_model_name": "HBoxModel",
            "_view_count": null,
            "_view_module": "@jupyter-widgets/controls",
            "_view_module_version": "1.5.0",
            "_view_name": "HBoxView",
            "box_style": "",
            "children": [
              "IPY_MODEL_7846db93ef824cd7a5a746edc18f701b",
              "IPY_MODEL_beac55a6a09643ab9fa8cdcdd81347b9",
              "IPY_MODEL_81347792e5d14cbc9f00f2973d56b1e7"
            ],
            "layout": "IPY_MODEL_ff71d51a43a145338e479ae4e40d19bb"
          }
        },
        "7846db93ef824cd7a5a746edc18f701b": {
          "model_module": "@jupyter-widgets/controls",
          "model_name": "HTMLModel",
          "model_module_version": "1.5.0",
          "state": {
            "_dom_classes": [],
            "_model_module": "@jupyter-widgets/controls",
            "_model_module_version": "1.5.0",
            "_model_name": "HTMLModel",
            "_view_count": null,
            "_view_module": "@jupyter-widgets/controls",
            "_view_module_version": "1.5.0",
            "_view_name": "HTMLView",
            "description": "",
            "description_tooltip": null,
            "layout": "IPY_MODEL_c2fa5c5c21644f03ab369b81883fcb0d",
            "placeholder": "​",
            "style": "IPY_MODEL_e259621aab55496793b72ed103d1e7e6",
            "value": "100%"
          }
        },
        "beac55a6a09643ab9fa8cdcdd81347b9": {
          "model_module": "@jupyter-widgets/controls",
          "model_name": "FloatProgressModel",
          "model_module_version": "1.5.0",
          "state": {
            "_dom_classes": [],
            "_model_module": "@jupyter-widgets/controls",
            "_model_module_version": "1.5.0",
            "_model_name": "FloatProgressModel",
            "_view_count": null,
            "_view_module": "@jupyter-widgets/controls",
            "_view_module_version": "1.5.0",
            "_view_name": "ProgressView",
            "bar_style": "success",
            "description": "",
            "description_tooltip": null,
            "layout": "IPY_MODEL_f226cd059c3b4d0f8e4bfe4d6c91016e",
            "max": 1,
            "min": 0,
            "orientation": "horizontal",
            "style": "IPY_MODEL_ebcc35140a7e4cae9dce12efdac66800",
            "value": 1
          }
        },
        "81347792e5d14cbc9f00f2973d56b1e7": {
          "model_module": "@jupyter-widgets/controls",
          "model_name": "HTMLModel",
          "model_module_version": "1.5.0",
          "state": {
            "_dom_classes": [],
            "_model_module": "@jupyter-widgets/controls",
            "_model_module_version": "1.5.0",
            "_model_name": "HTMLModel",
            "_view_count": null,
            "_view_module": "@jupyter-widgets/controls",
            "_view_module_version": "1.5.0",
            "_view_name": "HTMLView",
            "description": "",
            "description_tooltip": null,
            "layout": "IPY_MODEL_7ffd0ccf86274537995ea07550bd5694",
            "placeholder": "​",
            "style": "IPY_MODEL_92ff7086c3b84cd8af976a7c6e27a58a",
            "value": " 1/1 [00:05&lt;00:00,  5.12s/it]"
          }
        },
        "ff71d51a43a145338e479ae4e40d19bb": {
          "model_module": "@jupyter-widgets/base",
          "model_name": "LayoutModel",
          "model_module_version": "1.2.0",
          "state": {
            "_model_module": "@jupyter-widgets/base",
            "_model_module_version": "1.2.0",
            "_model_name": "LayoutModel",
            "_view_count": null,
            "_view_module": "@jupyter-widgets/base",
            "_view_module_version": "1.2.0",
            "_view_name": "LayoutView",
            "align_content": null,
            "align_items": null,
            "align_self": null,
            "border": null,
            "bottom": null,
            "display": null,
            "flex": null,
            "flex_flow": null,
            "grid_area": null,
            "grid_auto_columns": null,
            "grid_auto_flow": null,
            "grid_auto_rows": null,
            "grid_column": null,
            "grid_gap": null,
            "grid_row": null,
            "grid_template_areas": null,
            "grid_template_columns": null,
            "grid_template_rows": null,
            "height": null,
            "justify_content": null,
            "justify_items": null,
            "left": null,
            "margin": null,
            "max_height": null,
            "max_width": null,
            "min_height": null,
            "min_width": null,
            "object_fit": null,
            "object_position": null,
            "order": null,
            "overflow": null,
            "overflow_x": null,
            "overflow_y": null,
            "padding": null,
            "right": null,
            "top": null,
            "visibility": null,
            "width": null
          }
        },
        "c2fa5c5c21644f03ab369b81883fcb0d": {
          "model_module": "@jupyter-widgets/base",
          "model_name": "LayoutModel",
          "model_module_version": "1.2.0",
          "state": {
            "_model_module": "@jupyter-widgets/base",
            "_model_module_version": "1.2.0",
            "_model_name": "LayoutModel",
            "_view_count": null,
            "_view_module": "@jupyter-widgets/base",
            "_view_module_version": "1.2.0",
            "_view_name": "LayoutView",
            "align_content": null,
            "align_items": null,
            "align_self": null,
            "border": null,
            "bottom": null,
            "display": null,
            "flex": null,
            "flex_flow": null,
            "grid_area": null,
            "grid_auto_columns": null,
            "grid_auto_flow": null,
            "grid_auto_rows": null,
            "grid_column": null,
            "grid_gap": null,
            "grid_row": null,
            "grid_template_areas": null,
            "grid_template_columns": null,
            "grid_template_rows": null,
            "height": null,
            "justify_content": null,
            "justify_items": null,
            "left": null,
            "margin": null,
            "max_height": null,
            "max_width": null,
            "min_height": null,
            "min_width": null,
            "object_fit": null,
            "object_position": null,
            "order": null,
            "overflow": null,
            "overflow_x": null,
            "overflow_y": null,
            "padding": null,
            "right": null,
            "top": null,
            "visibility": null,
            "width": null
          }
        },
        "e259621aab55496793b72ed103d1e7e6": {
          "model_module": "@jupyter-widgets/controls",
          "model_name": "DescriptionStyleModel",
          "model_module_version": "1.5.0",
          "state": {
            "_model_module": "@jupyter-widgets/controls",
            "_model_module_version": "1.5.0",
            "_model_name": "DescriptionStyleModel",
            "_view_count": null,
            "_view_module": "@jupyter-widgets/base",
            "_view_module_version": "1.2.0",
            "_view_name": "StyleView",
            "description_width": ""
          }
        },
        "f226cd059c3b4d0f8e4bfe4d6c91016e": {
          "model_module": "@jupyter-widgets/base",
          "model_name": "LayoutModel",
          "model_module_version": "1.2.0",
          "state": {
            "_model_module": "@jupyter-widgets/base",
            "_model_module_version": "1.2.0",
            "_model_name": "LayoutModel",
            "_view_count": null,
            "_view_module": "@jupyter-widgets/base",
            "_view_module_version": "1.2.0",
            "_view_name": "LayoutView",
            "align_content": null,
            "align_items": null,
            "align_self": null,
            "border": null,
            "bottom": null,
            "display": null,
            "flex": null,
            "flex_flow": null,
            "grid_area": null,
            "grid_auto_columns": null,
            "grid_auto_flow": null,
            "grid_auto_rows": null,
            "grid_column": null,
            "grid_gap": null,
            "grid_row": null,
            "grid_template_areas": null,
            "grid_template_columns": null,
            "grid_template_rows": null,
            "height": null,
            "justify_content": null,
            "justify_items": null,
            "left": null,
            "margin": null,
            "max_height": null,
            "max_width": null,
            "min_height": null,
            "min_width": null,
            "object_fit": null,
            "object_position": null,
            "order": null,
            "overflow": null,
            "overflow_x": null,
            "overflow_y": null,
            "padding": null,
            "right": null,
            "top": null,
            "visibility": null,
            "width": null
          }
        },
        "ebcc35140a7e4cae9dce12efdac66800": {
          "model_module": "@jupyter-widgets/controls",
          "model_name": "ProgressStyleModel",
          "model_module_version": "1.5.0",
          "state": {
            "_model_module": "@jupyter-widgets/controls",
            "_model_module_version": "1.5.0",
            "_model_name": "ProgressStyleModel",
            "_view_count": null,
            "_view_module": "@jupyter-widgets/base",
            "_view_module_version": "1.2.0",
            "_view_name": "StyleView",
            "bar_color": null,
            "description_width": ""
          }
        },
        "7ffd0ccf86274537995ea07550bd5694": {
          "model_module": "@jupyter-widgets/base",
          "model_name": "LayoutModel",
          "model_module_version": "1.2.0",
          "state": {
            "_model_module": "@jupyter-widgets/base",
            "_model_module_version": "1.2.0",
            "_model_name": "LayoutModel",
            "_view_count": null,
            "_view_module": "@jupyter-widgets/base",
            "_view_module_version": "1.2.0",
            "_view_name": "LayoutView",
            "align_content": null,
            "align_items": null,
            "align_self": null,
            "border": null,
            "bottom": null,
            "display": null,
            "flex": null,
            "flex_flow": null,
            "grid_area": null,
            "grid_auto_columns": null,
            "grid_auto_flow": null,
            "grid_auto_rows": null,
            "grid_column": null,
            "grid_gap": null,
            "grid_row": null,
            "grid_template_areas": null,
            "grid_template_columns": null,
            "grid_template_rows": null,
            "height": null,
            "justify_content": null,
            "justify_items": null,
            "left": null,
            "margin": null,
            "max_height": null,
            "max_width": null,
            "min_height": null,
            "min_width": null,
            "object_fit": null,
            "object_position": null,
            "order": null,
            "overflow": null,
            "overflow_x": null,
            "overflow_y": null,
            "padding": null,
            "right": null,
            "top": null,
            "visibility": null,
            "width": null
          }
        },
        "92ff7086c3b84cd8af976a7c6e27a58a": {
          "model_module": "@jupyter-widgets/controls",
          "model_name": "DescriptionStyleModel",
          "model_module_version": "1.5.0",
          "state": {
            "_model_module": "@jupyter-widgets/controls",
            "_model_module_version": "1.5.0",
            "_model_name": "DescriptionStyleModel",
            "_view_count": null,
            "_view_module": "@jupyter-widgets/base",
            "_view_module_version": "1.2.0",
            "_view_name": "StyleView",
            "description_width": ""
          }
        }
      }
    }
  },
  "cells": [
    {
      "cell_type": "markdown",
      "source": [
        "Idea: https://stepik.org/lesson/532600/step/1?auth=login&unit=717336"
      ],
      "metadata": {
        "id": "Att0ruTJSXgf"
      }
    },
    {
      "cell_type": "code",
      "execution_count": 1,
      "metadata": {
        "id": "BROfx1k3Ab83"
      },
      "outputs": [],
      "source": [
        "import numpy as np\n",
        "import pandas as pd\n",
        "import torch\n",
        "import torch.nn.functional as F\n",
        "import seaborn as sns\n",
        "import os\n",
        "import torch\n",
        "import random\n",
        "import torch.optim as optim\n",
        "from torch import nn\n",
        "from torch.utils.tensorboard import SummaryWriter\n",
        "from torch.utils.data import DataLoader\n",
        "from torch.utils.data import Dataset\n",
        "from matplotlib import pyplot as plt\n",
        "from statistics import mean\n",
        "from tqdm import tqdm_notebook\n",
        "from sklearn.model_selection import train_test_split"
      ]
    },
    {
      "cell_type": "markdown",
      "source": [
        "# Downloading data"
      ],
      "metadata": {
        "id": "qqDrqpagAjlC"
      }
    },
    {
      "cell_type": "code",
      "source": [
        "# get data files from my github\n",
        "\n",
        "!git clone https://github.com/NatashaKhotkina/Neural_network_project.git\n",
        "!cp -r Neural_network_project/data .\n",
        "!rm -rf Neural_network_project"
      ],
      "metadata": {
        "colab": {
          "base_uri": "https://localhost:8080/"
        },
        "id": "AoTViDYnA6si",
        "outputId": "bee6c312-124d-46ec-bfd7-ee4e464c67f0"
      },
      "execution_count": 2,
      "outputs": [
        {
          "output_type": "stream",
          "name": "stdout",
          "text": [
            "Cloning into 'Neural_network_project'...\n",
            "remote: Enumerating objects: 161, done.\u001b[K\n",
            "remote: Counting objects: 100% (24/24), done.\u001b[K\n",
            "remote: Compressing objects: 100% (16/16), done.\u001b[K\n",
            "remote: Total 161 (delta 6), reused 24 (delta 6), pack-reused 137\u001b[K\n",
            "Receiving objects: 100% (161/161), 262.88 MiB | 10.19 MiB/s, done.\n",
            "Resolving deltas: 100% (7/7), done.\n",
            "Checking out files: 100% (138/138), done.\n"
          ]
        }
      ]
    },
    {
      "cell_type": "code",
      "source": [
        "path_to_folder = 'data'"
      ],
      "metadata": {
        "id": "GZ4lL7xgyFxg"
      },
      "execution_count": 4,
      "outputs": []
    },
    {
      "cell_type": "code",
      "source": [
        "list_of_filenames = os.listdir(path_to_folder)\n",
        "list_of_filenames = sorted(list_of_filenames, reverse=True)"
      ],
      "metadata": {
        "id": "QccIhz_1BTJA"
      },
      "execution_count": 5,
      "outputs": []
    },
    {
      "cell_type": "code",
      "source": [
        "list_of_filenames_test = list_of_filenames[-17:]\n",
        "list_of_filenames_test"
      ],
      "metadata": {
        "colab": {
          "base_uri": "https://localhost:8080/"
        },
        "id": "tfPb6_5eGNQm",
        "outputId": "19e64a15-3e5a-46f6-9ad5-df652c4e344b"
      },
      "execution_count": 6,
      "outputs": [
        {
          "output_type": "execute_result",
          "data": {
            "text/plain": [
              "['03122020_Block2_labels.txt',\n",
              " '03122020_Block1_labels.txt',\n",
              " '03122020_Block15_labels.txt',\n",
              " '03122020_Block12_labels.txt',\n",
              " '03122020_Block10_labels.txt',\n",
              " '01122020_Block9_labels.txt',\n",
              " '01122020_Block8_labels.txt',\n",
              " '01122020_Block7_labels.txt',\n",
              " '01122020_Block6_labels.txt',\n",
              " '01122020_Block5_labels.txt',\n",
              " '01122020_Block4_labels.txt',\n",
              " '01122020_Block3_labels.txt',\n",
              " '01122020_Block2_labels.txt',\n",
              " '01122020_Block1_labels.txt',\n",
              " '01122020_Block12_labels.txt',\n",
              " '01122020_Block11_labels.txt',\n",
              " '01122020_Block10_labels.txt']"
            ]
          },
          "metadata": {},
          "execution_count": 6
        }
      ]
    },
    {
      "cell_type": "code",
      "source": [
        "# makes patches of size 40 with stride 1\n",
        "\n",
        "def make_patches(voltage, labels, patch_len = 40, stride = 1):\n",
        "  voltage_patches = []\n",
        "  length = len(voltage)\n",
        "  length = length - (length % patch_len)\n",
        "  for i in range(0, length, stride):\n",
        "    v_p = voltage[i:i+patch_len]\n",
        "    l_p = labels[i:i+patch_len]\n",
        "    if len(l_p) == patch_len:\n",
        "      voltage_patches.append(v_p)\n",
        "  return voltage_patches"
      ],
      "metadata": {
        "id": "Mn3kwOtOBXYv"
      },
      "execution_count": null,
      "outputs": []
    },
    {
      "cell_type": "code",
      "source": [
        "# downloads a file and makes patches\n",
        "\n",
        "def load_group(filename, path_to_folder):\n",
        "  path_to_file = os.path.join(path_to_folder, filename)\n",
        "  data = pd.read_csv(path_to_file)\n",
        "  voltage = torch.tensor(data['Voltage'].values, dtype=torch.float32)\n",
        "  training_mean = voltage.mean()\n",
        "  training_std = voltage.std()\n",
        "  voltage = (voltage - training_mean) / training_std\n",
        "  labels = data['labels'].to_numpy()\n",
        "  voltage_patches = make_patches(voltage, labels)\n",
        "  return voltage_patches"
      ],
      "metadata": {
        "id": "WSkD26XzBXcF"
      },
      "execution_count": null,
      "outputs": []
    },
    {
      "cell_type": "code",
      "source": [
        "FILENAME = list_of_filenames_test[0]\n",
        "list_of_filenames_test[0]"
      ],
      "metadata": {
        "id": "VBg7R6sCJ4Ry",
        "colab": {
          "base_uri": "https://localhost:8080/",
          "height": 36
        },
        "outputId": "29860bc2-46bd-4d6d-8cd2-fc6a4107b3eb"
      },
      "execution_count": null,
      "outputs": [
        {
          "output_type": "execute_result",
          "data": {
            "text/plain": [
              "'27102020_Block10_labels.txt'"
            ],
            "application/vnd.google.colaboratory.intrinsic+json": {
              "type": "string"
            }
          },
          "metadata": {},
          "execution_count": 621
        }
      ]
    },
    {
      "cell_type": "code",
      "source": [
        "X = load_group(FILENAME, path_to_folder)\n",
        "X = torch.stack(X).unsqueeze(1)"
      ],
      "metadata": {
        "id": "IEoGZTvsC6dg"
      },
      "execution_count": null,
      "outputs": []
    },
    {
      "cell_type": "code",
      "source": [
        "x_train, x_val = train_test_split(X, train_size=0.9, shuffle=True)\n",
        "print(\"Training input shape: \", x_train.shape)"
      ],
      "metadata": {
        "colab": {
          "base_uri": "https://localhost:8080/"
        },
        "id": "EiB6JE64C6h-",
        "outputId": "b0bfa837-7eea-4605-c9b9-bd32aa58a2f7"
      },
      "execution_count": null,
      "outputs": [
        {
          "output_type": "stream",
          "name": "stdout",
          "text": [
            "Training input shape:  torch.Size([570234, 1, 40])\n"
          ]
        }
      ]
    },
    {
      "cell_type": "code",
      "source": [
        "train_loader = torch.utils.data.DataLoader(x_train, batch_size=512)\n",
        "val_loader = torch.utils.data.DataLoader(x_val, batch_size=64)"
      ],
      "metadata": {
        "id": "DSkC6VW6Efz9"
      },
      "execution_count": null,
      "outputs": []
    },
    {
      "cell_type": "markdown",
      "source": [
        "# Model"
      ],
      "metadata": {
        "id": "4Afs4DdiElgT"
      }
    },
    {
      "cell_type": "code",
      "source": [
        "class Autoencoder(torch.nn.Module):\n",
        "  def __init__(self):\n",
        "    super().__init__()\n",
        "    self.encoder = nn.Sequential(\n",
        "        nn.Conv1d(1, 32, kernel_size=7, stride=1, padding=3),\n",
        "        nn.ReLU(),\n",
        "        nn.Conv1d(32, 16, kernel_size=7, stride=1, padding=3),\n",
        "        nn.ReLU(),\n",
        "    )\n",
        "    self.decoder = nn.Sequential(\n",
        "        nn.ConvTranspose1d(16, 16, kernel_size=7, stride=1, padding=3),\n",
        "        nn.ReLU(),\n",
        "        nn.Dropout(0.2),\n",
        "        nn.ConvTranspose1d(16, 32, kernel_size=7, stride=1, padding=3),\n",
        "        nn.ReLU(),\n",
        "        nn.ConvTranspose1d(32, 1, kernel_size=7, stride=1, padding=3),\n",
        "    )\n",
        "\n",
        "  def forward(self, sample):\n",
        "    latent = self.encoder(sample)\n",
        "    reconstructed = self.decoder(latent)\n",
        "    return reconstructed"
      ],
      "metadata": {
        "id": "LUbx6NCbEkua"
      },
      "execution_count": null,
      "outputs": []
    },
    {
      "cell_type": "markdown",
      "source": [
        "# Training"
      ],
      "metadata": {
        "id": "PA5w9NuVEsVe"
      }
    },
    {
      "cell_type": "code",
      "source": [
        "n_epochs = 1\n",
        "device = 'cuda:0' if torch.cuda.is_available() else 'cpu'\n",
        "\n",
        "model = Autoencoder().to(device)\n",
        "optimizer = torch.optim.Adam(model.parameters(), lr=0.001)\n",
        "loss_fn = F.mse_loss\n",
        "train_losses = []\n",
        "val_losses = []\n",
        "\n",
        "for epoch in tqdm_notebook(range(n_epochs)):\n",
        "    model.train()\n",
        "    train_losses_per_epoch = []\n",
        "    for i, X_batch in enumerate(train_loader):\n",
        "        optimizer.zero_grad()\n",
        "        reconstructed = model(X_batch.to(device))\n",
        "        loss = loss_fn(reconstructed, X_batch.to(device))\n",
        "        loss.backward()\n",
        "        optimizer.step()\n",
        "        train_losses.append(loss.item())\n",
        "\n",
        "\n",
        "    model.eval()\n",
        "    with torch.no_grad():\n",
        "        for X_batch in val_loader:\n",
        "          reconstructed = model(X_batch.to(device))\n",
        "          loss = loss_fn(reconstructed, X_batch.to(device))\n",
        "          val_losses.append(loss.item())\n"
      ],
      "metadata": {
        "colab": {
          "base_uri": "https://localhost:8080/",
          "height": 101,
          "referenced_widgets": [
            "ecd8d6ff606f475387b67e6f31e7ca39",
            "7846db93ef824cd7a5a746edc18f701b",
            "beac55a6a09643ab9fa8cdcdd81347b9",
            "81347792e5d14cbc9f00f2973d56b1e7",
            "ff71d51a43a145338e479ae4e40d19bb",
            "c2fa5c5c21644f03ab369b81883fcb0d",
            "e259621aab55496793b72ed103d1e7e6",
            "f226cd059c3b4d0f8e4bfe4d6c91016e",
            "ebcc35140a7e4cae9dce12efdac66800",
            "7ffd0ccf86274537995ea07550bd5694",
            "92ff7086c3b84cd8af976a7c6e27a58a"
          ]
        },
        "id": "oaRzgivDErcD",
        "outputId": "2f02513a-a157-4287-d0fe-d210ec4e853e"
      },
      "execution_count": null,
      "outputs": [
        {
          "output_type": "stream",
          "name": "stderr",
          "text": [
            "/usr/local/lib/python3.7/dist-packages/ipykernel_launcher.py:10: TqdmDeprecationWarning: This function will be removed in tqdm==5.0.0\n",
            "Please use `tqdm.notebook.tqdm` instead of `tqdm.tqdm_notebook`\n",
            "  # Remove the CWD from sys.path while we load stuff.\n"
          ]
        },
        {
          "output_type": "display_data",
          "data": {
            "text/plain": [
              "  0%|          | 0/1 [00:00<?, ?it/s]"
            ],
            "application/vnd.jupyter.widget-view+json": {
              "version_major": 2,
              "version_minor": 0,
              "model_id": "ecd8d6ff606f475387b67e6f31e7ca39"
            }
          },
          "metadata": {}
        }
      ]
    },
    {
      "cell_type": "code",
      "source": [
        "# train loss after each batch (1 epoch)\n",
        "\n",
        "plt.figure(figsize=(10, 7))\n",
        "plt.plot(np.arange(len(train_losses)), train_losses, label='Train')\n",
        "#plt.plot(np.arange(len(val_losses)), val_losses, label='Validation')\n",
        "\n",
        "plt.ylim(0, 0.5)\n",
        "plt.xlabel('Batch')\n",
        "plt.title('MSE loss')\n",
        "plt.legend()\n",
        "plt.show()"
      ],
      "metadata": {
        "colab": {
          "base_uri": "https://localhost:8080/",
          "height": 458
        },
        "id": "_G20WqAWEy2S",
        "outputId": "de48b079-4f35-40d3-c8b9-5069aa881717"
      },
      "execution_count": null,
      "outputs": [
        {
          "output_type": "display_data",
          "data": {
            "text/plain": [
              "<Figure size 720x504 with 1 Axes>"
            ],
            "image/png": "[encoded data removed]"
          },
          "metadata": {
            "needs_background": "light"
          }
        }
      ]
    },
    {
      "cell_type": "code",
      "source": [
        "mean(val_losses) # mean validation loss"
      ],
      "metadata": {
        "colab": {
          "base_uri": "https://localhost:8080/"
        },
        "id": "dQPZD2Vh2-is",
        "outputId": "b2e6d4f8-769b-41cb-d721-b1bb843c76a4"
      },
      "execution_count": null,
      "outputs": [
        {
          "output_type": "execute_result",
          "data": {
            "text/plain": [
              "0.0370237920564985"
            ]
          },
          "metadata": {},
          "execution_count": 628
        }
      ]
    },
    {
      "cell_type": "markdown",
      "source": [
        "# Anomaly detection"
      ],
      "metadata": {
        "id": "41GU9TufFC6M"
      }
    },
    {
      "cell_type": "code",
      "source": [
        "# downloads a file, returns columns \"Voltage\" as pd.DataFrame, column \"labels\" as np.ndarray makes patches of voltage\n",
        "\n",
        "def load_test_group(filename, path_to_folder):\n",
        "  path_to_file = os.path.join(path_to_folder, filename)\n",
        "  data = pd.read_csv(path_to_file)\n",
        "  voltage_pandas = data['Voltage']\n",
        "  voltage = torch.tensor(data['Voltage'].values, dtype=torch.float32)\n",
        "  training_mean = voltage.mean()\n",
        "  training_std = voltage.std()\n",
        "  voltage = (voltage - training_mean) / training_std\n",
        "  labels = data['labels'].to_numpy()\n",
        "  voltage_patches = make_patches(voltage, labels)\n",
        "  return voltage_pandas, labels, voltage_patches"
      ],
      "metadata": {
        "id": "6hzikydCWxG5"
      },
      "execution_count": null,
      "outputs": []
    },
    {
      "cell_type": "code",
      "source": [
        "voltage_test, labels_test, x_test = load_test_group(FILENAME, path_to_folder)\n",
        "x_test = torch.stack(x_test).unsqueeze(1)\n",
        "test_loader = torch.utils.data.DataLoader(x_test, shuffle=False)\n",
        "print(\"Test input shape: \", x_test.shape)"
      ],
      "metadata": {
        "colab": {
          "base_uri": "https://localhost:8080/"
        },
        "id": "3M7NuHnNjf2u",
        "outputId": "7daad490-830c-4d1e-8f35-e46cd5466463"
      },
      "execution_count": null,
      "outputs": [
        {
          "output_type": "stream",
          "name": "stdout",
          "text": [
            "Test input shape:  torch.Size([633594, 1, 40])\n"
          ]
        }
      ]
    },
    {
      "cell_type": "code",
      "source": [
        "# gets MAE loss for each patch (batch_size = 1)\n",
        "\n",
        "test_losses = []\n",
        "x_pred = []\n",
        "\n",
        "with torch.no_grad():\n",
        "  for batch in test_loader:\n",
        "    pred = model(batch.to(device)).cpu().numpy()\n",
        "    mae_loss = np.mean(np.abs(pred - batch.numpy()))\n",
        "    test_losses.append(mae_loss)\n",
        "    x_pred.append(pred.ravel())\n",
        "\n",
        "\n",
        "test_losses = np.array(test_losses).reshape((-1))"
      ],
      "metadata": {
        "id": "4DrOAeWiE91g"
      },
      "execution_count": null,
      "outputs": []
    },
    {
      "cell_type": "code",
      "source": [
        "# Reconstruction\n",
        "\n",
        "plt.figure(figsize=(15, 4))\n",
        "plt.plot(X[0].numpy().ravel(), label='Ground truth')\n",
        "plt.plot(x_pred[0], label='Predicted')\n",
        "\n",
        "plt.legend()\n",
        "plt.show()"
      ],
      "metadata": {
        "id": "COm7hcEk8Ilq",
        "colab": {
          "base_uri": "https://localhost:8080/",
          "height": 265
        },
        "outputId": "7a0122db-fe8e-4a94-902c-1250ac0a0dd7"
      },
      "execution_count": null,
      "outputs": [
        {
          "output_type": "display_data",
          "data": {
            "text/plain": [
              "<Figure size 1080x288 with 1 Axes>"
            ],
            "image/png": "[encoded data removed]"
          },
          "metadata": {
            "needs_background": "light"
          }
        }
      ]
    },
    {
      "cell_type": "code",
      "source": [
        "# Histogram of MAE losses, counted for each patch\n",
        "\n",
        "plt.figure(figsize=(15, 4))\n",
        "plt.hist(test_losses, bins=50)\n",
        "plt.xlabel(\"test MAE loss\")\n",
        "plt.ylabel(\"No of samples\")\n",
        "plt.show()"
      ],
      "metadata": {
        "id": "fDRYux37lT6q",
        "colab": {
          "base_uri": "https://localhost:8080/",
          "height": 279
        },
        "outputId": "2ec4f042-8f7b-433f-e150-288a81db34a5"
      },
      "execution_count": null,
      "outputs": [
        {
          "output_type": "display_data",
          "data": {
            "text/plain": [
              "<Figure size 1080x288 with 1 Axes>"
            ],
            "image/png": "[encoded data removed]"
          },
          "metadata": {
            "needs_background": "light"
          }
        }
      ]
    },
    {
      "cell_type": "code",
      "source": [
        "max(test_losses)"
      ],
      "metadata": {
        "id": "bvj_vMvpsPZy",
        "colab": {
          "base_uri": "https://localhost:8080/"
        },
        "outputId": "f52acbb4-66b9-44ae-9995-2b2bc2dfbf55"
      },
      "execution_count": null,
      "outputs": [
        {
          "output_type": "execute_result",
          "data": {
            "text/plain": [
              "0.6778058"
            ]
          },
          "metadata": {},
          "execution_count": 634
        }
      ]
    },
    {
      "cell_type": "code",
      "source": [
        "np.quantile(test_losses, 0.998)"
      ],
      "metadata": {
        "colab": {
          "base_uri": "https://localhost:8080/"
        },
        "id": "UgC8TDQYc38O",
        "outputId": "b95ebed9-4be7-44e1-c20b-959d26808d3c"
      },
      "execution_count": null,
      "outputs": [
        {
          "output_type": "execute_result",
          "data": {
            "text/plain": [
              "0.3700464530587213"
            ]
          },
          "metadata": {},
          "execution_count": 641
        }
      ]
    },
    {
      "cell_type": "code",
      "source": [
        "threshold = np.quantile(test_losses, 0.998)"
      ],
      "metadata": {
        "id": "JIqcpwqDc4BM"
      },
      "execution_count": null,
      "outputs": []
    },
    {
      "cell_type": "code",
      "source": [
        "# Those patches, that have MAE loss > threshold, are anomalous - they contain anomalous data.\n",
        "anomalies = test_losses > threshold\n",
        "\n",
        "print(\"Number of anomaly samples: \", np.sum(anomalies))\n",
        "print(\"Indices of anomaly samples: \", np.where(anomalies))"
      ],
      "metadata": {
        "id": "frcvtu00tgs4",
        "colab": {
          "base_uri": "https://localhost:8080/"
        },
        "outputId": "b95cb07c-aa12-413c-f490-344955569918"
      },
      "execution_count": null,
      "outputs": [
        {
          "output_type": "stream",
          "name": "stdout",
          "text": [
            "Number of anomaly samples:  1268\n",
            "Indices of anomaly samples:  (array([   387,    388,    389, ..., 633558, 633559, 633560]),)\n"
          ]
        }
      ]
    },
    {
      "cell_type": "markdown",
      "source": [
        "# Graphs"
      ],
      "metadata": {
        "id": "5oRI5Ra4FLQW"
      }
    },
    {
      "cell_type": "code",
      "source": [
        "# data i is an anomaly if samples [(i - TIMESTEPS + 1) to (i)] are anomalies\n",
        "TIMESTEPS = 20\n",
        "anomalous_data_indices = []\n",
        "for data_idx in range(TIMESTEPS - 1, len(voltage_test) - TIMESTEPS + 1):\n",
        "    if np.all(anomalies[data_idx - TIMESTEPS + 1 : data_idx]):\n",
        "        anomalous_data_indices.append(data_idx)"
      ],
      "metadata": {
        "id": "xNn3_FwsE96A"
      },
      "execution_count": null,
      "outputs": []
    },
    {
      "cell_type": "code",
      "source": [
        "len(anomalous_data_indices)"
      ],
      "metadata": {
        "colab": {
          "base_uri": "https://localhost:8080/"
        },
        "id": "_qlbkX-mnBJq",
        "outputId": "62258b90-3894-424c-e120-74656cbc303e"
      },
      "execution_count": null,
      "outputs": [
        {
          "output_type": "execute_result",
          "data": {
            "text/plain": [
              "270"
            ]
          },
          "metadata": {},
          "execution_count": 645
        }
      ]
    },
    {
      "cell_type": "code",
      "source": [
        "df_subset = voltage_test.iloc[anomalous_data_indices].to_frame()\n",
        "fig, ax = plt.subplots(figsize=(15, 4))\n",
        "voltage_test.plot(legend=False, ax=ax)\n",
        "plt.scatter(x = df_subset.index, y = df_subset['Voltage'], color=\"r\")\n",
        "#df_subset.plot(y = df_subset.index, legend=False, ax=ax, color=\"r\", kind='scatter')\n",
        "plt.show()"
      ],
      "metadata": {
        "colab": {
          "base_uri": "https://localhost:8080/",
          "height": 265
        },
        "id": "OjAzF9D6kIyM",
        "outputId": "7471ff12-ba0e-4cc0-c29b-30b6a31ea0f6"
      },
      "execution_count": null,
      "outputs": [
        {
          "output_type": "display_data",
          "data": {
            "text/plain": [
              "<Figure size 1080x288 with 1 Axes>"
            ],
            "image/png": "[encoded data removed]"
          },
          "metadata": {
            "needs_background": "light"
          }
        }
      ]
    },
    {
      "cell_type": "markdown",
      "source": [
        "# Code for evaluation"
      ],
      "metadata": {
        "id": "Ca33WyEamzE7"
      }
    },
    {
      "cell_type": "code",
      "source": [
        "def find_central_index (ind_array):\n",
        "  #ind_array = ind_array.tolist()\n",
        "  central_indices = []\n",
        "  junk_list = []\n",
        "  lenght = len(ind_array)\n",
        "  for i, ind in enumerate(ind_array):\n",
        "    junk_list.append(ind)\n",
        "    if i < lenght - 1 and (ind_array[i+1] != (ind + 1)):\n",
        "      central_index = int(mean(junk_list))\n",
        "      central_indices.append(central_index)\n",
        "      junk_list = []\n",
        "  return central_indices"
      ],
      "metadata": {
        "id": "jGsY1YsVT5rx"
      },
      "execution_count": null,
      "outputs": []
    },
    {
      "cell_type": "code",
      "source": [
        "true_indices = np.where(labels_test == 1)"
      ],
      "metadata": {
        "id": "NTqxzHZkTi78"
      },
      "execution_count": null,
      "outputs": []
    },
    {
      "cell_type": "code",
      "source": [
        "a_central_indices = find_central_index(anomalous_data_indices)"
      ],
      "metadata": {
        "id": "EOjnzyN_dou5"
      },
      "execution_count": null,
      "outputs": []
    },
    {
      "cell_type": "code",
      "source": [
        "t_central_indices = find_central_index(true_indices[0])"
      ],
      "metadata": {
        "id": "kg507-ZHdryo"
      },
      "execution_count": null,
      "outputs": []
    },
    {
      "cell_type": "code",
      "source": [
        "print(a_central_indices) #predicted\n",
        "print(len(a_central_indices))"
      ],
      "metadata": {
        "colab": {
          "base_uri": "https://localhost:8080/"
        },
        "id": "vkpysBTDd9Fz",
        "outputId": "ffbb27ff-b79b-4108-9693-6ff3cf4fa461"
      },
      "execution_count": null,
      "outputs": [
        {
          "output_type": "stream",
          "name": "stdout",
          "text": [
            "[2476, 41947, 52304, 65180, 164652, 281137, 310243, 375566, 477752, 553916, 607187, 610587, 617450, 627186, 632975, 633348, 633535]\n",
            "17\n"
          ]
        }
      ]
    },
    {
      "cell_type": "code",
      "source": [
        "print(t_central_indices) #true\n",
        "print(len(t_central_indices))"
      ],
      "metadata": {
        "colab": {
          "base_uri": "https://localhost:8080/"
        },
        "id": "4Rj9WeQqeGoO",
        "outputId": "72ac6520-aa4b-4f1d-b6ea-d2b9e010bee3"
      },
      "execution_count": null,
      "outputs": [
        {
          "output_type": "stream",
          "name": "stdout",
          "text": [
            "[41951, 52309, 57404, 65190, 100494, 133073, 135133, 155851, 164656, 191240, 246894, 253502, 265608, 271197, 281146, 310251, 331305, 375571, 382919, 399107, 477759, 532687]\n",
            "22\n"
          ]
        }
      ]
    },
    {
      "cell_type": "markdown",
      "source": [
        "Precision, recall, F1 are im README.md."
      ],
      "metadata": {
        "id": "s8jYT-InG4yn"
      }
    }
  ]
}